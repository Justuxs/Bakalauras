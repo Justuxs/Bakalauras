{
  "cells": [
    {
      "cell_type": "code",
      "execution_count": null,
      "metadata": {
        "id": "ohZD5UqA8P5D"
      },
      "outputs": [],
      "source": [
        "from google.colab import drive\n",
        "drive.mount('/content/drive')"
      ]
    },
    {
      "cell_type": "markdown",
      "metadata": {
        "id": "fZFOB4uJtrip"
      },
      "source": [
        "#Imports"
      ]
    },
    {
      "cell_type": "code",
      "execution_count": null,
      "metadata": {
        "id": "sS7EznBiuXoA"
      },
      "outputs": [],
      "source": [
        "import pandas as pd\n",
        "import openpyxl\n",
        "import time\n",
        "import json\n",
        "\n",
        "from openpyxl import Workbook\n",
        "from openpyxl import load_workbook\n",
        "from datetime import datetime\n"
      ]
    },
    {
      "cell_type": "markdown",
      "metadata": {
        "id": "2rqBl6tWub_U"
      },
      "source": [
        "#Globals\n"
      ]
    },
    {
      "cell_type": "code",
      "execution_count": null,
      "metadata": {
        "id": "0R9c_UqAueA4"
      },
      "outputs": [],
      "source": [
        "model_path = \"model.gguf\"\n",
        "gramma_path = \"model.gguf\"\n",
        "\n",
        "topics_file_path = \"/content/drive/MyDrive/ChemTopics.xlsx\"\n",
        "result_file_path = \"/content/drive/MyDrive/ChemResults_.xlsx\"\n",
        "\n",
        "questions_per_topic = 10\n",
        "questions_per_subtopic = 10"
      ]
    },
    {
      "cell_type": "markdown",
      "metadata": {
        "id": "0r-4pufLtsCq"
      },
      "source": [
        "#Helpers"
      ]
    },
    {
      "cell_type": "markdown",
      "metadata": {
        "id": "X1W4G9gotvGl"
      },
      "source": [
        "##Colors"
      ]
    },
    {
      "cell_type": "code",
      "execution_count": null,
      "metadata": {
        "id": "Mf1kryr0tkqP"
      },
      "outputs": [],
      "source": [
        "class colors:\n",
        "    RED = '\\033[91m'\n",
        "    GREEN = '\\033[92m'\n",
        "    YELLOW = '\\033[93m'\n",
        "    BLUE = '\\033[94m'\n",
        "    PURPLE = '\\033[95m'\n",
        "    CYAN = '\\033[96m'\n",
        "    END = '\\033[0m'\n",
        "\n",
        "def print_in_color(text, color):\n",
        "    class Colors:\n",
        "        RED = '\\033[91m'\n",
        "        GREEN = '\\033[92m'\n",
        "        END = '\\033[0m'\n",
        "\n",
        "    if color.lower() == 'red':\n",
        "        color_code = Colors.RED\n",
        "    elif color.lower() == 'green':\n",
        "        color_code = Colors.GREEN\n",
        "    else:\n",
        "        color_code = ''\n",
        "\n",
        "    print(color_code + text + Colors.END)"
      ]
    },
    {
      "cell_type": "markdown",
      "metadata": {
        "id": "j_7TExkCtyrQ"
      },
      "source": [
        "## Test from model Parser"
      ]
    },
    {
      "cell_type": "code",
      "execution_count": null,
      "metadata": {
        "id": "6WDOKIDtt2gT"
      },
      "outputs": [],
      "source": [
        "def remove_last_char(text):\n",
        "  if text and text[-1] in \",.\":\n",
        "    return text[:-1]\n",
        "  else:\n",
        "    return text\n",
        "\n",
        "def remove_colon_space_start(sentence):\n",
        "    if sentence.startswith(\": \"):\n",
        "        return sentence.replace(\": \", \"\", 1)\n",
        "    return sentence.capitalize()\n",
        "\n",
        "class TestQuestion:\n",
        "    def __init__(self, question, choices, correct_answer_letter, explanation):\n",
        "        self.question = question\n",
        "        self.choices = choices\n",
        "        self.correct_answer_letter = correct_answer_letter\n",
        "        self.explanation = explanation\n",
        "\n",
        "class TestQuestionParser:\n",
        "    def __init__(self, question_str):\n",
        "        self.question_str = question_str.replace(\"\\\"\",\"\")\n",
        "\n",
        "    def parse(self):\n",
        "      try:\n",
        "        lines = self.question_str.split('\\n')\n",
        "        question = None\n",
        "        choices = []\n",
        "        correct_answer_letter = None\n",
        "        explanation = None\n",
        "\n",
        "        for line in lines:\n",
        "          line_ = line.upper()\n",
        "          line_ = line_.strip()\n",
        "          line_ = line_.replace(\" \", \"\")\n",
        "\n",
        "          print(line_)\n",
        "\n",
        "          if line_.startswith('QUESTION'):\n",
        "            question = remove_last_char(line.split(':')[1].strip())\n",
        "          elif line_.startswith('CORRECTANSWERLETTER:'):\n",
        "            correct_answer_letter = remove_last_char(line.split(':')[1].strip())\n",
        "          elif line_.startswith('EXPLANATION:') or line_.startswith('CORRECTANSWEREXPLANATION:'):\n",
        "            explanation = remove_last_char(line.split(':', 1)[1].strip())\n",
        "          elif line_.startswith('A)'):\n",
        "            choice_letter, choice_text = line.split(')', 1)\n",
        "            choices.append(remove_colon_space_start(remove_last_char(choice_text.strip())))\n",
        "          elif line_.startswith('B)'):\n",
        "            choice_letter, choice_text = line.split(')', 1)\n",
        "            choices.append(remove_colon_space_start(remove_last_char(choice_text.strip())))\n",
        "          elif line_.startswith('C)'):\n",
        "            choice_letter, choice_text = line.split(')', 1)\n",
        "            choices.append(remove_colon_space_start(remove_last_char(choice_text.strip())))\n",
        "          elif line_.startswith('D)'):\n",
        "            choice_letter, choice_text = line.split(')', 1)\n",
        "            choices.append(remove_colon_space_start(remove_last_char(choice_text.strip())))\n",
        "\n",
        "        if not question:\n",
        "          raise ValueError(\"Incomplete data in question string\")\n",
        "\n",
        "        if not choices:\n",
        "          raise ValueError(\"Incomplete data in choices string\")\n",
        "\n",
        "        if not correct_answer_letter:\n",
        "          raise ValueError(\"Incomplete data in correct_answer_letter string\")\n",
        "\n",
        "        if not explanation:\n",
        "          raise ValueError(\"Incomplete data in explanation string\")\n",
        "\n",
        "        return TestQuestion(question, choices, correct_answer_letter, explanation)\n",
        "      except Exception as e:\n",
        "        print_in_color(\"Error occurred while parsing: \"+ str(e), \"red\")\n"
      ]
    },
    {
      "cell_type": "markdown",
      "metadata": {
        "id": "fl9KMd_Xt8M-"
      },
      "source": [
        "##Excel reader and writer"
      ]
    },
    {
      "cell_type": "code",
      "execution_count": null,
      "metadata": {
        "id": "uQCH6H4FuDeP"
      },
      "outputs": [],
      "source": [
        "class Topic:\n",
        "    def __init__(self, subject, theme, topic, subtopic):\n",
        "        self.subject = subject\n",
        "        self.theme = theme\n",
        "        self.topic = topic\n",
        "        self.subtopic = subtopic\n",
        "\n",
        "def parse_excel_rows(file_path):\n",
        "    topics = []\n",
        "    df = pd.read_excel(file_path)\n",
        "    for index, row in df.iterrows():\n",
        "        done = row['Done']\n",
        "        if done == True:\n",
        "          continue\n",
        "        subject = str(row['Subject'])\n",
        "        theme = str(row['Theme'])\n",
        "        topic = str(row['Topic'])\n",
        "        subtopic = str(row['Subtopic'])\n",
        "        topic_obj = Topic(subject, theme, topic, subtopic)\n",
        "        topics.append(topic_obj)\n",
        "    return topics\n",
        "\n",
        "def write_to_excel(topic, question, elapsed_time):\n",
        "    try:\n",
        "      wb = openpyxl.load_workbook(result_file_path, read_only=False)\n",
        "    except FileNotFoundError:\n",
        "      wb = openpyxl.Workbook()\n",
        "      ws = wb.active\n",
        "      header_row = [\"Subject\", \"Theme\", \"Topic\", \"Subtopic\", \"Question\",\n",
        "                    \"Correct Answer\", \"Explanation\", \"Elapsed Time\", \"Date\"]\n",
        "      header_row.extend([\"Choice A\", \"Choice B\", \"Choice C\", \"Choice D\"])\n",
        "      ws.append(header_row)\n",
        "\n",
        "    ws = wb.active\n",
        "\n",
        "    current_date = datetime.now().strftime(\"%Y-%m-%d\")\n",
        "\n",
        "    subject = topic.subject\n",
        "    theme = topic.theme\n",
        "    topic_text = topic.topic\n",
        "    subtopic = topic.subtopic\n",
        "    question_text = question.question\n",
        "    correct_answer = question.correct_answer_letter\n",
        "    explanation = question.explanation\n",
        "\n",
        "    max_choices = 4\n",
        "    choices = question.choices[:max_choices]\n",
        "\n",
        "    row = [subject, theme, topic_text, subtopic, question_text, correct_answer,\n",
        "          explanation, elapsed_time, current_date]\n",
        "    row.extend(choices)\n",
        "\n",
        "    ws.append(row)\n",
        "    wb.save(result_file_path)\n",
        "\n",
        "    print(f\"Data successfully written to Excel file: {result_file_path}\")\n",
        "\n",
        "import openpyxl\n",
        "from datetime import datetime\n",
        "\n",
        "def write_to_excel(result_file_path, topic, question, a, b, c, d, correct_answer,correct_answer_explanation, elapsed_time):\n",
        "    try:\n",
        "        wb = openpyxl.load_workbook(result_file_path)\n",
        "    except FileNotFoundError:\n",
        "        wb = openpyxl.Workbook()\n",
        "        ws = wb.active\n",
        "        header_row = [\"Subject\", \"Theme\", \"Topic\", \"Subtopic\", \"Question\",\n",
        "                      \"Correct Answer\", \"Explanation\", \"Elapsed Time\", \"Date\",\n",
        "                      \"Choice A\", \"Choice B\", \"Choice C\", \"Choice D\"]\n",
        "        ws.append(header_row)\n",
        "    else:\n",
        "        ws = wb.active\n",
        "\n",
        "    current_date = datetime.now().strftime(\"%Y-%m-%d\")\n",
        "\n",
        "    subject = topic.subject\n",
        "    theme = topic.theme\n",
        "    topic_text = topic.topic\n",
        "    subtopic = topic.subtopic\n",
        "    question_text = question\n",
        "    explanation = correct_answer_explanation\n",
        "    max_choices = 4\n",
        "    choices = [a, b, c, d][:max_choices]\n",
        "\n",
        "    row = [subject, theme, topic_text, subtopic, question_text, correct_answer,\n",
        "          explanation, elapsed_time, current_date]\n",
        "    row.extend(choices)\n",
        "\n",
        "    ws.append(row)\n",
        "    wb.save(result_file_path)\n",
        "\n",
        "    print(f\"Data successfully written to Excel file: {result_file_path}\")"
      ]
    },
    {
      "cell_type": "markdown",
      "metadata": {
        "id": "KrsvUxWBtiKq"
      },
      "source": [
        "#Modelis\n"
      ]
    },
    {
      "cell_type": "code",
      "execution_count": null,
      "metadata": {
        "id": "aZIySdf0oJ58"
      },
      "outputs": [],
      "source": [
        "!CMAKE_ARGS=\"-DLLAMA_CUBLAS=on\" pip install llama-cpp-python -q"
      ]
    },
    {
      "cell_type": "code",
      "execution_count": null,
      "metadata": {
        "id": "ZyE-jp03qr-i"
      },
      "outputs": [],
      "source": [
        "!pip install langchain -q"
      ]
    },
    {
      "cell_type": "code",
      "execution_count": null,
      "metadata": {
        "id": "53_40527qg7R"
      },
      "outputs": [],
      "source": [
        "from langchain_community.llms import LlamaCpp\n",
        "from langchain_core.callbacks import CallbackManager, StreamingStdOutCallbackHandler\n",
        "from langchain_core.prompts import PromptTemplate"
      ]
    },
    {
      "cell_type": "code",
      "execution_count": null,
      "metadata": {
        "id": "NTtQ8TwV7Psc"
      },
      "outputs": [],
      "source": [
        "#!sudo fuser -v /dev/nvidia*"
      ]
    },
    {
      "cell_type": "code",
      "execution_count": null,
      "metadata": {
        "id": "vJscVOLy7Yge"
      },
      "outputs": [],
      "source": [
        "#!sudo kill -400 PID\n"
      ]
    },
    {
      "cell_type": "code",
      "execution_count": null,
      "metadata": {
        "id": "shwGinE5qgF1"
      },
      "outputs": [],
      "source": [
        "n_gpu_layers = -1\n",
        "n_batch = 256\n",
        "\n",
        "llm = LlamaCpp(\n",
        "    model_path=model_path,\n",
        "    n_gpu_layers=n_gpu_layers,\n",
        "    n_batch=n_batch,\n",
        "    grammar_path=gramma_path,\n",
        "    f16_kv=True,\n",
        "    temperature=0.3,\n",
        "    max_tokens = 512\n",
        ")"
      ]
    },
    {
      "cell_type": "code",
      "execution_count": null,
      "metadata": {
        "id": "2eyzz5t4rlld"
      },
      "outputs": [],
      "source": [
        "template = \"\"\" <s>[INST]\n",
        "Formulate 1 a single multiple-choice test question with correct answer letter and correct answer explanation for an eighth grader on the topic of {context}.\n",
        " [/INST]\n",
        "\"\"\""
      ]
    },
    {
      "cell_type": "code",
      "execution_count": null,
      "metadata": {
        "id": "JiR6x66Hr_vv"
      },
      "outputs": [],
      "source": [
        "prompt = PromptTemplate.from_template(template)"
      ]
    },
    {
      "cell_type": "code",
      "execution_count": null,
      "metadata": {
        "id": "BeFiJ88ssWqp"
      },
      "outputs": [],
      "source": [
        "llm_chain = prompt | llm"
      ]
    },
    {
      "cell_type": "markdown",
      "metadata": {
        "id": "aKHj4Ez4vU-B"
      },
      "source": [
        "#Main"
      ]
    },
    {
      "cell_type": "code",
      "execution_count": null,
      "metadata": {
        "id": "bJHqkrd6vYeL"
      },
      "outputs": [],
      "source": [
        "topics = parse_excel_rows(topics_file_path)"
      ]
    },
    {
      "cell_type": "code",
      "execution_count": null,
      "metadata": {
        "collapsed": true,
        "id": "Kqkr740Evg92"
      },
      "outputs": [],
      "source": [
        "for topic in topics:\n",
        "    query = f\"{topic.subject} subject in {topic.theme} about {topic.topic} {topic.subtopic}\"\n",
        "    range_ = questions_per_subtopic\n",
        "    if topic.subtopic == \"nan\":\n",
        "      topic.subtopic = \"\"\n",
        "      range_ = questions_per_topic\n",
        "\n",
        "    for i in range(0, range_):\n",
        "      llm_chain = prompt | llm\n",
        "      start_time = time.time()\n",
        "      response = llm_chain.invoke({\"topic\": query})\n",
        "      end_time = time.time()\n",
        "      elapsed_time = end_time - start_time\n",
        "\n",
        "      try:\n",
        "        test_object = json.loads(response)\n",
        "\n",
        "        print(\"Question:\", test_object[\"question\"])\n",
        "        print(\"Option A:\", test_object[\"A\"])\n",
        "        print(\"Option B:\", test_object[\"B\"])\n",
        "        print(\"Option C:\", test_object[\"C\"])\n",
        "        print(\"Option D:\", test_object[\"D\"])\n",
        "        print(\"Correct Answer:\", test_object[\"correct_answer_letter\"])\n",
        "        print(\"Explanation:\", test_object[\"correct_answer_explanation\"])\n",
        "\n",
        "        write_to_excel(result_file_path, topic, test_object[\"question\"], test_object[\"A\"], test_object[\"B\"], test_object[\"C\"], test_object[\"D\"], test_object[\"correct_answer_letter\"], test_object[\"correct_answer_explanation\"], elapsed_time)\n",
        "\n",
        "      except json.JSONDecodeError as e:\n",
        "        print(\"Error parsing JSON:\", e)\n",
        "      except KeyError as e:\n",
        "        print(\"Error accessing dictionary key:\", e)\n"
      ]
    }
  ],
  "metadata": {
    "accelerator": "GPU",
    "colab": {
      "collapsed_sections": [
        "fZFOB4uJtrip",
        "0r-4pufLtsCq",
        "X1W4G9gotvGl",
        "j_7TExkCtyrQ",
        "fl9KMd_Xt8M-"
      ],
      "gpuType": "T4",
      "provenance": []
    },
    "kernelspec": {
      "display_name": "Python 3",
      "name": "python3"
    },
    "language_info": {
      "name": "python"
    }
  },
  "nbformat": 4,
  "nbformat_minor": 0
}
